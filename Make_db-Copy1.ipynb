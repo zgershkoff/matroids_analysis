{
 "cells": [
  {
   "cell_type": "code",
   "execution_count": 69,
   "metadata": {},
   "outputs": [],
   "source": [
    "f = open(\"data/smallBinaryMatroids/hr-sz07-rk03\", \"r\")"
   ]
  },
  {
   "cell_type": "code",
   "execution_count": 70,
   "metadata": {},
   "outputs": [
    {
     "data": {
      "text/plain": [
       "'13 1 2 3 4 5 6 7 8 16 24 32 64 128 \\n'"
      ]
     },
     "execution_count": 70,
     "metadata": {},
     "output_type": "execute_result"
    }
   ],
   "source": [
    "next(f)"
   ]
  },
  {
   "cell_type": "code",
   "execution_count": 71,
   "metadata": {},
   "outputs": [
    {
     "data": {
      "text/plain": [
       "'0100000'"
      ]
     },
     "execution_count": 71,
     "metadata": {},
     "output_type": "execute_result"
    }
   ],
   "source": [
    "format(32, '07b')"
   ]
  },
  {
   "cell_type": "code",
   "execution_count": 17,
   "metadata": {},
   "outputs": [
    {
     "ename": "TypeError",
     "evalue": "'str' object cannot be interpreted as an integer",
     "output_type": "error",
     "traceback": [
      "\u001b[0;31m---------------------------------------------------------------------------\u001b[0m",
      "\u001b[0;31mTypeError\u001b[0m                                 Traceback (most recent call last)",
      "\u001b[0;32m<ipython-input-17-0fdb69102134>\u001b[0m in \u001b[0;36m<module>\u001b[0;34m()\u001b[0m\n\u001b[0;32m----> 1\u001b[0;31m \u001b[0mbin\u001b[0m\u001b[0;34m(\u001b[0m\u001b[0;34m\"32\"\u001b[0m\u001b[0;34m)\u001b[0m\u001b[0;34m[\u001b[0m\u001b[0mInteger\u001b[0m\u001b[0;34m(\u001b[0m\u001b[0;36m2\u001b[0m\u001b[0;34m)\u001b[0m\u001b[0;34m:\u001b[0m\u001b[0;34m]\u001b[0m\u001b[0;34m.\u001b[0m\u001b[0mzfill\u001b[0m\u001b[0;34m(\u001b[0m\u001b[0mInteger\u001b[0m\u001b[0;34m(\u001b[0m\u001b[0;36m7\u001b[0m\u001b[0;34m)\u001b[0m\u001b[0;34m)\u001b[0m\u001b[0;34m\u001b[0m\u001b[0;34m\u001b[0m\u001b[0m\n\u001b[0m",
      "\u001b[0;31mTypeError\u001b[0m: 'str' object cannot be interpreted as an integer"
     ]
    }
   ],
   "source": [
    "bin(\"32\")[2:].zfill(7)"
   ]
  },
  {
   "cell_type": "code",
   "execution_count": 4,
   "metadata": {},
   "outputs": [],
   "source": [
    "tf = \"testfile.txt\""
   ]
  },
  {
   "cell_type": "code",
   "execution_count": 5,
   "metadata": {},
   "outputs": [],
   "source": [
    "import json"
   ]
  },
  {
   "cell_type": "code",
   "execution_count": 72,
   "metadata": {},
   "outputs": [],
   "source": [
    "with open(tf, \"w\") as outfile:\n",
    "    outfile.write(json.dumps(next(f)))"
   ]
  },
  {
   "cell_type": "code",
   "execution_count": 81,
   "metadata": {},
   "outputs": [],
   "source": [
    "def string_to_matrix(repstring):\n",
    "    \"\"\"\n",
    "    INPUT: string as from Gordon Royle's binary matroid data\n",
    "    OUTPUT: binary matrix\n",
    "    \"\"\"\n",
    "    elts = repstring.strip().split(\" \")[1:]\n",
    "    mat = []\n",
    "    for n in elts:\n",
    "        # Todo: adjust according to rank\n",
    "        mat.append([int(c) for c in format(int(n), '08b')])\n",
    "        # alternate solution: bin(int(n))[2:].zfill(7)\n",
    "    return Matrix(GF(2), mat).transpose()  "
   ]
  },
  {
   "cell_type": "code",
   "execution_count": 82,
   "metadata": {},
   "outputs": [
    {
     "data": {
      "text/plain": [
       "[0 0 0 0 0 0 0 0 0 0 0 0 1]\n",
       "[0 0 0 0 0 0 0 0 0 0 1 1 0]\n",
       "[0 0 0 0 0 0 0 0 0 1 0 1 0]\n",
       "[0 0 0 0 0 0 0 0 1 0 0 1 0]\n",
       "[0 0 0 0 0 0 0 1 0 0 0 1 0]\n",
       "[0 0 0 1 1 1 1 0 0 0 0 0 0]\n",
       "[0 1 1 0 0 1 1 0 0 0 0 0 0]\n",
       "[1 0 1 0 1 0 1 0 0 0 0 1 0]"
      ]
     },
     "execution_count": 82,
     "metadata": {},
     "output_type": "execute_result"
    }
   ],
   "source": [
    "m = string_to_matrix(next(f)); m"
   ]
  },
  {
   "cell_type": "code",
   "execution_count": 24,
   "metadata": {},
   "outputs": [
    {
     "data": {
      "text/plain": [
       "Binary matroid of rank 7 on 11 elements, type (1, 4)"
      ]
     },
     "execution_count": 24,
     "metadata": {},
     "output_type": "execute_result"
    }
   ],
   "source": [
    "Matroid(m)"
   ]
  },
  {
   "cell_type": "code",
   "execution_count": 25,
   "metadata": {},
   "outputs": [],
   "source": [
    "def matrix_to_matroid(mat):\n",
    "    return Matroid(mat)"
   ]
  },
  {
   "cell_type": "code",
   "execution_count": 26,
   "metadata": {},
   "outputs": [],
   "source": [
    "M = Matroid(m)"
   ]
  },
  {
   "cell_type": "code",
   "execution_count": 30,
   "metadata": {},
   "outputs": [
    {
     "data": {
      "text/plain": [
       "Binary matroid of rank 4 on 11 elements, type (1, 7)"
      ]
     },
     "execution_count": 30,
     "metadata": {},
     "output_type": "execute_result"
    }
   ],
   "source": [
    "M.dual()"
   ]
  },
  {
   "cell_type": "code",
   "execution_count": 28,
   "metadata": {},
   "outputs": [
    {
     "data": {
      "text/plain": [
       "'parameters:\\ngraphic (check fano, K5, K33, and duals)\\ntriangle-free\\nis simple\\nis cosimple\\nis connected\\nis 3-connected\\nis 4-connected\\ngirth\\ncogirth\\n\\nMake data [rep string, those 14 parameters]\\n'"
      ]
     },
     "execution_count": 28,
     "metadata": {},
     "output_type": "execute_result"
    }
   ],
   "source": [
    "'''parameters:\n",
    "graphic (check fano, K5, K33, and duals)\n",
    "triangle-free\n",
    "is simple\n",
    "is cosimple\n",
    "is connected\n",
    "is 3-connected\n",
    "is 4-connected\n",
    "girth\n",
    "cogirth\n",
    "\n",
    "Make data [rep string, those 14 parameters]\n",
    "'''"
   ]
  },
  {
   "cell_type": "code",
   "execution_count": 31,
   "metadata": {},
   "outputs": [],
   "source": [
    "# these are stubs\n",
    "# improve speed and add checks for matroids with rank or corank 0\n",
    "def girth(M):\n",
    "    return min(len(C) for C in M.circuits())\n",
    "\n",
    "def cogirth(M):\n",
    "    return min(len(C) for C in M.cocircuits())"
   ]
  },
  {
   "cell_type": "code",
   "execution_count": 58,
   "metadata": {},
   "outputs": [],
   "source": [
    "def analyze_matroid(M):\n",
    "    attribs = [False] * 12 # 12 boolean variables\n",
    "    attribs.extend([0, 0]) # girth and cogirth\n",
    "    \n",
    "    # checking for minors can be improved with a database approach\n",
    "    attribs[0] = M.has_minor(matroids.named_matroids.Fano())\n",
    "    attribs[1] = M.has_minor(matroids.named_matroids.Fano().dual())\n",
    "    attribs[2] = M.has_minor(Matroid(graphs.CompleteBipartiteGraph(3,3)))\n",
    "    attribs[3] = M.has_minor(matroids.named_matroids.K33dual())\n",
    "    attribs[4] = M.has_minor(matroids.CompleteGraphic(5))\n",
    "    attribs[5] = M.has_minor(matroids.CompleteGraphic(5).dual())\n",
    "    \n",
    "    attribs[6] = M.has_line_minor(3)\n",
    "    attribs[7] = M.is_simple()\n",
    "    attribs[8] = M.is_cosimple()\n",
    "    attribs[9] = M.is_connected()\n",
    "    attribs[10] = M.is_3connected()\n",
    "    attribs[11] = M.is_4connected()\n",
    "    \n",
    "    attribs[12] = girth(M)\n",
    "    attribs[13] = cogirth(M)\n",
    "    \n",
    "    return attribs"
   ]
  },
  {
   "cell_type": "code",
   "execution_count": 59,
   "metadata": {},
   "outputs": [
    {
     "data": {
      "text/plain": [
       "[False,\n",
       " False,\n",
       " False,\n",
       " False,\n",
       " False,\n",
       " False,\n",
       " True,\n",
       " True,\n",
       " False,\n",
       " False,\n",
       " False,\n",
       " False,\n",
       " 3,\n",
       " 1]"
      ]
     },
     "execution_count": 59,
     "metadata": {},
     "output_type": "execute_result"
    }
   ],
   "source": [
    "analyze_matroid(M)"
   ]
  },
  {
   "cell_type": "code",
   "execution_count": 67,
   "metadata": {},
   "outputs": [],
   "source": [
    "def main():\n",
    "    InFile = \"data/smallBinaryMatroids/hr-sz13-rk08\"\n",
    "    OutFile = \"hr-sz13-rk08-results.json\"\n",
    "    \n",
    "    result = []\n",
    "    \n",
    "    with open(InFile, 'r') as f:\n",
    "        for repstring in f:\n",
    "            mat = string_to_matrix(repstring)\n",
    "            M = matrix_to_matroid(mat)\n",
    "            attribs = analyze_matroid(M)\n",
    "            result.append([repstring] + [str(a) for a in attribs])\n",
    "    \n",
    "    with open(OutFile, 'w') as f:\n",
    "        f.write(json.dumps(result))"
   ]
  },
  {
   "cell_type": "code",
   "execution_count": 83,
   "metadata": {},
   "outputs": [],
   "source": [
    "main()"
   ]
  },
  {
   "cell_type": "code",
   "execution_count": 86,
   "metadata": {},
   "outputs": [],
   "source": [
    "with open('hr-sz13-rk08-results.json', 'r') as f:\n",
    "    data = json.load(f)"
   ]
  },
  {
   "cell_type": "code",
   "execution_count": 87,
   "metadata": {},
   "outputs": [
    {
     "data": {
      "text/plain": [
       "5098"
      ]
     },
     "execution_count": 87,
     "metadata": {},
     "output_type": "execute_result"
    }
   ],
   "source": [
    "len(data)"
   ]
  },
  {
   "cell_type": "code",
   "execution_count": 90,
   "metadata": {},
   "outputs": [
    {
     "data": {
      "text/plain": [
       "['13 1 2 4 7 8 12 16 31 32 35 64 128 207 \\n',\n",
       " 'False',\n",
       " 'False',\n",
       " 'False',\n",
       " 'False',\n",
       " 'False',\n",
       " 'False',\n",
       " 'True',\n",
       " 'True',\n",
       " 'False',\n",
       " 'True',\n",
       " 'False',\n",
       " 'False',\n",
       " '3',\n",
       " '2']"
      ]
     },
     "execution_count": 90,
     "metadata": {},
     "output_type": "execute_result"
    }
   ],
   "source": [
    "data[3000]"
   ]
  },
  {
   "cell_type": "code",
   "execution_count": 57,
   "metadata": {},
   "outputs": [
    {
     "data": {
      "text/plain": [
       "[0 0 0 0 0 0 0 0 0 0 1]\n",
       "[0 0 0 0 0 0 0 0 0 1 0]\n",
       "[0 0 0 0 0 0 0 0 1 0 0]\n",
       "[0 0 0 0 0 0 0 1 0 0 0]\n",
       "[0 0 0 1 1 1 1 0 0 0 0]\n",
       "[0 1 1 0 0 1 1 0 0 0 0]\n",
       "[1 0 1 0 1 0 1 0 0 0 0]"
      ]
     },
     "execution_count": 57,
     "metadata": {},
     "output_type": "execute_result"
    }
   ],
   "source": [
    "string_to_matrix(data[0][0])"
   ]
  },
  {
   "cell_type": "code",
   "execution_count": null,
   "metadata": {},
   "outputs": [],
   "source": []
  }
 ],
 "metadata": {
  "kernelspec": {
   "display_name": "SageMath 8.8.beta7",
   "language": "sage",
   "name": "sagemath"
  },
  "language_info": {
   "codemirror_mode": {
    "name": "ipython",
    "version": 3
   },
   "file_extension": ".py",
   "mimetype": "text/x-python",
   "name": "python",
   "nbconvert_exporter": "python",
   "pygments_lexer": "ipython3",
   "version": "3.7.3"
  }
 },
 "nbformat": 4,
 "nbformat_minor": 2
}
